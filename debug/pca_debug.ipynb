{
 "cells": [
  {
   "attachments": {},
   "cell_type": "markdown",
   "metadata": {},
   "source": [
    "# setting "
   ]
  },
  {
   "cell_type": "code",
   "execution_count": 3,
   "metadata": {},
   "outputs": [],
   "source": [
    "import numpy as np\n",
    "import tensorflow as tf"
   ]
  },
  {
   "cell_type": "code",
   "execution_count": 4,
   "metadata": {},
   "outputs": [
    {
     "name": "stdout",
     "output_type": "stream",
     "text": [
      "Using gpu\n"
     ]
    }
   ],
   "source": [
    "gpu_devices = tf.config.experimental.list_physical_devices('GPU')\n",
    "if gpu_devices:\n",
    "    print('Using gpu')\n",
    "    tf.config.experimental.set_memory_growth(gpu_devices[0], True)\n",
    "else:\n",
    "    print('Using cpu')"
   ]
  },
  {
   "attachments": {},
   "cell_type": "markdown",
   "metadata": {},
   "source": [
    "# data"
   ]
  },
  {
   "cell_type": "code",
   "execution_count": 5,
   "metadata": {},
   "outputs": [],
   "source": [
    "# Load and scale data\n",
    "(x_train, y_train), (x_test, y_test) = tf.keras.datasets.mnist.load_data()\n",
    "input_shape=x_train.shape[1:] # 28x28 here\n",
    "x_train = x_train.astype('float32') / 255.\n",
    "x_test = x_test.astype('float32') / 255.\n",
    "x_train = x_train.reshape(-1,28*28)\n",
    "x_test = x_test.reshape(-1,28*28)"
   ]
  },
  {
   "attachments": {},
   "cell_type": "markdown",
   "metadata": {},
   "source": [
    "# scikit-learn PCA"
   ]
  },
  {
   "cell_type": "code",
   "execution_count": 8,
   "metadata": {},
   "outputs": [],
   "source": [
    "from sklearn.decomposition import PCA"
   ]
  },
  {
   "cell_type": "code",
   "execution_count": 6,
   "metadata": {},
   "outputs": [
    {
     "data": {
      "text/plain": [
       "(60000, 10)"
      ]
     },
     "execution_count": 6,
     "metadata": {},
     "output_type": "execute_result"
    }
   ],
   "source": [
    "sklearn_pca = PCA(n_components=10)\n",
    "sklearn_pca.fit(x_train)\n",
    "x_train_sklearn = sklearn_pca.transform(x_train)\n",
    "x_train_sklearn.shape"
   ]
  },
  {
   "cell_type": "code",
   "execution_count": 7,
   "metadata": {},
   "outputs": [
    {
     "data": {
      "text/plain": [
       "array([ 0.4859638 , -1.2261759 , -0.09615013, -2.1794016 , -0.1071211 ,\n",
       "       -0.9116693 ,  0.9175417 ,  0.62658876, -1.425468  ,  0.77740115],\n",
       "      dtype=float32)"
      ]
     },
     "execution_count": 7,
     "metadata": {},
     "output_type": "execute_result"
    }
   ],
   "source": [
    "x_train_sklearn[0]"
   ]
  },
  {
   "attachments": {},
   "cell_type": "markdown",
   "metadata": {},
   "source": [
    "# dynamic PCA"
   ]
  },
  {
   "cell_type": "code",
   "execution_count": 9,
   "metadata": {},
   "outputs": [],
   "source": [
    "class PCALayer(tf.keras.layers.Layer):\n",
    "    n_components : int = None   # No dimension reduction with None\n",
    "    \n",
    "    def __init__(self, n_components : int, inverse_layer : bool, **options):\n",
    "        self.inverse_layer = inverse_layer\n",
    "        self._fitted = False\n",
    "        self.n_components = n_components\n",
    "        self.mean = None\n",
    "        self.singular_values = None\n",
    "        self.U = None\n",
    "        self.V = None\n",
    "        options['dynamic']   = True  # Is dynamic\n",
    "        options['trainable'] = False # but not trainable\n",
    "        super().__init__(**options)  # further Layer init\n",
    "    \n",
    "    def fit(self, x_train : tf.Tensor) -> None:\n",
    "        \"\"\"\n",
    "        Calculates the SVD, afterwards the PCA can be applied\n",
    "        \"\"\"\n",
    "        self.mean = tf.reduce_mean(x_train, axis=0)\n",
    "        x_train = tf.subtract(x_train, self.mean)     # Centering of data\n",
    "        # Sidenote, tf, numpy and scipys svds can be different\n",
    "        # a is a tensor.\n",
    "        # u is a tensor of left singular vectors.\n",
    "        # v is a tensor of right singular vectors.\n",
    "        singular_values, U, V = tf.linalg.svd(x_train, full_matrices=False)\n",
    "        V = tf.transpose(V)\n",
    "        # Store singular values and transformation matrix V\n",
    "        self.singular_values, self.V = singular_values, V  # TODO: Should be done as tf weights\n",
    "        self._fitted = True       \n",
    "    \n",
    "    def transform(self, X : tf.Tensor) -> tf.Tensor:\n",
    "        \"\"\"\n",
    "        Applies the PCA transformation with choosen dimension\n",
    "        which is set by the attribute n_components.\n",
    "        Output shape: (X.shape[0], self.n_components)\n",
    "        \"\"\"\n",
    "        X = tf.subtract(X, self.mean) # Center data\n",
    "        # Transform with submatrix of V to choosen dimension\n",
    "        Xk = tf.matmul(X, tf.transpose(self.V[:self.n_components, :]))\n",
    "        return Xk\n",
    "        \n",
    "    def inverse_transform(self, Xk : tf.Tensor) -> tf.Tensor:\n",
    "        \"\"\"\n",
    "        Reverse the PCA transformation from Xk with dimension k\n",
    "        to original dimension n.\n",
    "        Output shape: (Xk.shape[0], self.singular_values.shape[0])\n",
    "        \"\"\"\n",
    "        X = tf.matmul(Xk, self.V[:Xk.shape[-1], :]) # Always returns to full dimension of V\n",
    "        X = X + self.mean                           # Reverse the centering\n",
    "        return X\n",
    "        \n",
    "    def call(self, input : tf.Tensor) -> tf.Tensor:\n",
    "        \"\"\"\n",
    "        This function is called when data passes the layer\n",
    "        \"\"\"\n",
    "        if not self._fitted :   # No action if not fitted\n",
    "            return input\n",
    "        if self.inverse_layer:  # Reverse transformation\n",
    "            return self.inverse_transform(input)\n",
    "        return self.transform(input) # reduce dimension with PCA\n",
    "    \n",
    "    def compute_output_shape(self, input_shape : tf.Tensor) -> tf.Tensor:\n",
    "        \"\"\"\n",
    "        This method is not needed if TensorFlow runs eagerly\n",
    "        \"\"\"\n",
    "        if not self._fitted:\n",
    "            return input_shape\n",
    "        if not self.inverse_layer:\n",
    "            return tf.TensorShape([input_shape[0], self.n_components or input_shape[1:]])\n",
    "        return tf.TensorShape([None, self.singular_values.shape[0]])\n",
    "\n",
    "        "
   ]
  },
  {
   "cell_type": "code",
   "execution_count": 10,
   "metadata": {},
   "outputs": [
    {
     "data": {
      "text/plain": [
       "TensorShape([60000, 10])"
      ]
     },
     "execution_count": 10,
     "metadata": {},
     "output_type": "execute_result"
    }
   ],
   "source": [
    "dynamic_pca = PCALayer(n_components=10, inverse_layer=False)\n",
    "dynamic_pca.fit(x_train)\n",
    "x_train_dynamic = dynamic_pca(x_train)\n",
    "x_train_dynamic.shape"
   ]
  },
  {
   "cell_type": "code",
   "execution_count": 11,
   "metadata": {},
   "outputs": [
    {
     "data": {
      "text/plain": [
       "array([-0.4859962 ,  1.2259454 , -0.09619759, -2.1795943 , -0.10713483,\n",
       "        0.9117173 , -0.9177433 , -0.6267426 ,  1.4255993 ,  0.778152  ],\n",
       "      dtype=float32)"
      ]
     },
     "execution_count": 11,
     "metadata": {},
     "output_type": "execute_result"
    }
   ],
   "source": [
    "x_train_dynamic[0].numpy()"
   ]
  },
  {
   "attachments": {},
   "cell_type": "markdown",
   "metadata": {},
   "source": [
    "# difference"
   ]
  },
  {
   "cell_type": "code",
   "execution_count": 12,
   "metadata": {},
   "outputs": [
    {
     "name": "stdout",
     "output_type": "stream",
     "text": [
      "[ 0.4859638  -1.2261759  -0.09615013 -2.1794016  -0.1071211  -0.9116693\n",
      "  0.9175417   0.62658876 -1.425468    0.77740115]\n",
      "[-0.4859962   1.2259454  -0.09619759 -2.1795943  -0.10713483  0.9117173\n",
      " -0.9177433  -0.6267426   1.4255993   0.778152  ]\n",
      "[ 9.7195995e-01 -2.4521213e+00  4.7460198e-05  1.9264221e-04\n",
      "  1.3731420e-05 -1.8233867e+00  1.8352849e+00  1.2533314e+00\n",
      " -2.8510673e+00 -7.5083971e-04]\n"
     ]
    }
   ],
   "source": [
    "i = 0\n",
    "print(x_train_sklearn[i])\n",
    "print(x_train_dynamic[i].numpy())\n",
    "print(x_train_sklearn[i] - x_train_dynamic[i].numpy())"
   ]
  },
  {
   "cell_type": "code",
   "execution_count": null,
   "metadata": {},
   "outputs": [],
   "source": []
  }
 ],
 "metadata": {
  "kernelspec": {
   "display_name": "ml4t_gpu",
   "language": "python",
   "name": "python3"
  },
  "language_info": {
   "codemirror_mode": {
    "name": "ipython",
    "version": 3
   },
   "file_extension": ".py",
   "mimetype": "text/x-python",
   "name": "python",
   "nbconvert_exporter": "python",
   "pygments_lexer": "ipython3",
   "version": "3.8.13 | packaged by conda-forge | (default, Mar 25 2022, 05:59:45) [MSC v.1929 64 bit (AMD64)]"
  },
  "orig_nbformat": 4,
  "vscode": {
   "interpreter": {
    "hash": "ba59c522d5a267fc28a190abeed14f4d5d7e127ae17b852cae9aff24d823022e"
   }
  }
 },
 "nbformat": 4,
 "nbformat_minor": 2
}
