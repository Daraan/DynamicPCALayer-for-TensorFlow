{
 "cells": [
  {
   "cell_type": "markdown",
   "id": "334c32bd",
   "metadata": {},
   "source": [
    "# Minimal working example of a dynamic PCA Layer for TensorFlow"
   ]
  },
  {
   "cell_type": "code",
   "execution_count": 13,
   "id": "217b081a",
   "metadata": {},
   "outputs": [],
   "source": [
    "import tensorflow as tf\n",
    "class PCALayer(tf.keras.layers.Layer):\n",
    "    n_components : int = None   # No dimension reduction with None\n",
    "    \n",
    "    def __init__(self, inverse_layer : bool, **options):\n",
    "        self.inverse_layer = inverse_layer\n",
    "        self._fitted = False\n",
    "        options['dynamic']   = True  # Is dynamic\n",
    "        options['trainable'] = False # but not trainable\n",
    "        super().__init__(**options)  # further Layer init\n",
    "    \n",
    "    def fit(self, XTrain : tf.Tensor) -> None:\n",
    "        \"\"\"\n",
    "        Calculates the SVD, afterwards the PCA can be applied\n",
    "        \"\"\"\n",
    "        self.mean = tf.reduce_mean(XTrain, axis=0)\n",
    "        XTrain = tf.subtract(XTrain, self.mean)     # Centering of data\n",
    "        # Sidenote, tf, numpy and scipys svds can be different\n",
    "        S, U, V = tf.linalg.svd(XTrain, full_matrices=False)\n",
    "        V = tf.transpose(V)\n",
    "        # Store singular values and transformation matrix V\n",
    "        self.S, self.V = S, V  # TODO: Should be done as tf weights\n",
    "        self._fitted = True       \n",
    "    \n",
    "    def transform(self, X : tf.Tensor) -> tf.Tensor:\n",
    "        \"\"\"\n",
    "        Applies the PCA transformation with choosen dimension\n",
    "        which is set by the attribute n_components.\n",
    "        Output shape: (X.shape[0], self.n_components)\n",
    "        \"\"\"\n",
    "        X = tf.subtract(X, self.mean) # Center data\n",
    "        # Transform with submatrix of V to choosen dimension\n",
    "        Xk = tf.matmul(X, tf.transpose(self.V[:self.n_components, :]))\n",
    "        return Xk\n",
    "        \n",
    "    def inverse_transform(self, Xk : tf.Tensor) -> tf.Tensor:\n",
    "        \"\"\"\n",
    "        Reverse the PCA transformation from Xk with dimension k\n",
    "        to original dimension n.\n",
    "        Output shape: (Xk.shape[0], self.S.shape[0])\n",
    "        \"\"\"\n",
    "        X = tf.matmul(Xk, self.V[:Xk.shape[-1], :]) # Always returns to full dimension of V\n",
    "        X = X + self.mean                           # Reverse the centering\n",
    "        return X\n",
    "        \n",
    "    def call(self, input : tf.Tensor) -> tf.Tensor:\n",
    "        \"\"\"\n",
    "        This function is called when data passes the layer\n",
    "        \"\"\"\n",
    "        if not self._fitted :   # No action if not fitted\n",
    "            return input\n",
    "        if self.inverse_layer:  # Reverse transformation\n",
    "            return self.inverse_transform(input)\n",
    "        return self.transform(input) # reduce dimension with PCA\n",
    "    \n",
    "    def compute_output_shape(self, input_shape : tf.Tensor) -> tf.Tensor:\n",
    "        \"\"\"\n",
    "        This method is not needed if TensorFlow runs eagerly\n",
    "        \"\"\"\n",
    "        if not self._fitted:\n",
    "            return input_shape\n",
    "        if not self.inverse_layer:\n",
    "            return tf.TensorShape([input_shape[0], self.n_components or input_shape[1:]])\n",
    "        return tf.TensorShape([None, self.S.shape[0]])\n",
    "\n",
    "        "
   ]
  },
  {
   "cell_type": "markdown",
   "id": "cc6d5a6e",
   "metadata": {},
   "source": [
    "# Possible usage\n",
    "\n",
    "## Autoencoder setup and first training"
   ]
  },
  {
   "cell_type": "code",
   "execution_count": 14,
   "id": "8c260ffc",
   "metadata": {},
   "outputs": [
    {
     "name": "stdout",
     "output_type": "stream",
     "text": [
      "Epoch 1/2\n",
      "469/469 [==============================] - 41s 86ms/step - loss: 0.1382 - val_loss: 0.0843\n",
      "Epoch 2/2\n",
      "469/469 [==============================] - 40s 85ms/step - loss: 0.0786 - val_loss: 0.0752\n"
     ]
    }
   ],
   "source": [
    "from tensorflow.keras.models import Sequential\n",
    "from tensorflow.keras.layers import Dense, Flatten, Reshape, Conv2D, BatchNormalization, UpSampling2D, Input\n",
    "\n",
    "# Load and scale data\n",
    "(XTrain, YTrain), (XTest, YTest) = tf.keras.datasets.mnist.load_data()\n",
    "input_shape=XTrain.shape[1:] # 28x28 here\n",
    "XTrain = XTrain.astype('float32') / 255.\n",
    "XTest = XTest.astype('float32') / 255.\n",
    "\n",
    "# Define PCA Layers\n",
    "pca_transform_layer = PCALayer(inverse_layer=False)\n",
    "pca_inverse_layer = PCALayer(inverse_layer=True)\n",
    "\n",
    "# Define encoder and decoder\n",
    "encoder = Sequential(layers=[\n",
    "    Reshape((-1, 28,28,1)),\n",
    "    BatchNormalization(),\n",
    "    Conv2D(128, kernel_size=(3,3), strides=(2,2), activation=\"relu\"),\n",
    "    Conv2D(64, kernel_size=(3,3), strides=(2,2), activation=\"relu\"),\n",
    "    Flatten(),\n",
    "    Dense(256, activation=\"relu\"),\n",
    "    Dense(128),\n",
    "    BatchNormalization(),\n",
    "    pca_transform_layer\n",
    "    ])\n",
    "\n",
    "decoder = Sequential(layers=[\n",
    "    pca_inverse_layer,\n",
    "    Dense(7**3, activation=\"relu\"),\n",
    "    Reshape((7, 7, 7)),\n",
    "    BatchNormalization(),\n",
    "    Conv2D(64, kernel_size=(3,3), strides=(1,1), activation=\"relu\", padding='same'),\n",
    "    UpSampling2D(),\n",
    "    Conv2D(128, kernel_size=(3,3), strides=(1,1), activation=\"relu\", padding='same'),\n",
    "    UpSampling2D(),\n",
    "    BatchNormalization(),\n",
    "    Conv2D(128, kernel_size=(3,3), strides=(1,1), activation=\"relu\", padding='same'),\n",
    "    Conv2D(1, kernel_size=(3,3), strides=(1,1), activation=\"sigmoid\", padding='same'),\n",
    "    Reshape((28, 28))\n",
    "    ])\n",
    "\n",
    "# Define and train autoencoder\n",
    "model = Sequential(layers=[encoder, decoder])\n",
    "model.compile(optimizer='adam', loss='binary_crossentropy')\n",
    "\n",
    "# %%% Training\n",
    "model.fit(XTrain, XTrain, batch_size=128, epochs=2,\n",
    "         validation_data=(XTest, XTest)) \n",
    "\n",
    "# Encode Training data for PCA\n",
    "encoded = encoder.predict(XTrain)    # <--- Note the memory usage"
   ]
  },
  {
   "cell_type": "markdown",
   "id": "patent-correlation",
   "metadata": {},
   "source": [
    "## Output sample"
   ]
  },
  {
   "cell_type": "code",
   "execution_count": 15,
   "id": "thrown-civilian",
   "metadata": {
    "scrolled": true
   },
   "outputs": [
    {
     "data": {
      "image/png": "[encoded data removed]",
      "text/plain": [
       "<Figure size 432x288 with 1 Axes>"
      ]
     },
     "metadata": {
      "needs_background": "light"
     },
     "output_type": "display_data"
    }
   ],
   "source": [
    "import matplotlib.pyplot as plt\n",
    "plt.title(\"Original\")\n",
    "plt.imshow(XTest[:1][0], cmap='gray')\n",
    "plt.show()"
   ]
  },
  {
   "cell_type": "code",
   "execution_count": 16,
   "id": "wireless-basics",
   "metadata": {},
   "outputs": [
    {
     "data": {
      "image/png": "[encoded data removed]",
      "text/plain": [
       "<Figure size 432x288 with 1 Axes>"
      ]
     },
     "metadata": {
      "needs_background": "light"
     },
     "output_type": "display_data"
    }
   ],
   "source": [
    "plt.title(\"Result 1st Training - Latent dim 128\")\n",
    "plt.imshow(model.predict(XTest[:1])[0], cmap='gray')\n",
    "plt.show()"
   ]
  },
  {
   "cell_type": "markdown",
   "id": "editorial-satin",
   "metadata": {},
   "source": [
    "## Apply PCA and define dynamic latent dimension"
   ]
  },
  {
   "cell_type": "code",
   "execution_count": 17,
   "id": "fcac5049",
   "metadata": {},
   "outputs": [
    {
     "data": {
      "image/png": "[encoded data removed]",
      "text/plain": [
       "<Figure size 432x288 with 1 Axes>"
      ]
     },
     "metadata": {
      "needs_background": "light"
     },
     "output_type": "display_data"
    },
    {
     "data": {
      "image/png": "[encoded data removed]",
      "text/plain": [
       "<Figure size 432x288 with 1 Axes>"
      ]
     },
     "metadata": {
      "needs_background": "light"
     },
     "output_type": "display_data"
    }
   ],
   "source": [
    "# Fit PCA\n",
    "# Note rerunning this cell yields not the same result\n",
    "# as the pca_layer is part of the encoder\n",
    "encoded = encoder.predict(XTrain)  # <--- Encode the data, Note the memory usage\n",
    "pca_transform_layer.fit(encoded)\n",
    "pca_inverse_layer.fit(encoded)    # <--- Here you see the problem of this mwe. pca needs to be done twice\n",
    "del encoded\n",
    "pca_transform_layer.n_components = None # <-- Full latent shape\n",
    "\n",
    "plt.title(\"Result with PCA - Latent dim 128\")\n",
    "plt.imshow(model.predict(XTest[:1])[0], cmap='gray')\n",
    "plt.show()\n",
    "\n",
    "pca_transform_layer.n_components = 32 # <-- Define a custom latent layer size\n",
    "\n",
    "plt.title(\"Result with PCA - Latent dim 32\")\n",
    "plt.imshow(model.predict(XTest[:1])[0], cmap='gray')\n",
    "plt.show()"
   ]
  },
  {
   "cell_type": "markdown",
   "id": "framed-person",
   "metadata": {},
   "source": [
    "## Possible retraining to improve results at a lower dimension"
   ]
  },
  {
   "cell_type": "code",
   "execution_count": 18,
   "id": "occupational-saudi",
   "metadata": {},
   "outputs": [
    {
     "name": "stdout",
     "output_type": "stream",
     "text": [
      "Epoch 1/2\n",
      "469/469 [==============================] - 40s 86ms/step - loss: 0.0802 - val_loss: 0.0808\n",
      "Epoch 2/2\n",
      "469/469 [==============================] - 42s 89ms/step - loss: 0.0775 - val_loss: 0.0760\n"
     ]
    },
    {
     "data": {
      "image/png": "[encoded data removed]",
      "text/plain": [
       "<Figure size 432x288 with 1 Axes>"
      ]
     },
     "metadata": {
      "needs_background": "light"
     },
     "output_type": "display_data"
    }
   ],
   "source": [
    "# Possible Retraining\n",
    "model.fit(XTrain, XTrain, batch_size=128, epochs=2, \n",
    "          validation_data=(XTest, XTest)) # <--- Adjust with appropriate data\n",
    "\n",
    "plt.title(\"Result Retraining - Latent dim 32\")\n",
    "plt.imshow(model.predict(XTest[:1])[0], cmap='gray')\n",
    "plt.show()"
   ]
  }
 ],
 "metadata": {
  "kernelspec": {
   "display_name": "Python 3",
   "language": "python",
   "name": "python3"
  },
  "language_info": {
   "codemirror_mode": {
    "name": "ipython",
    "version": 3
   },
   "file_extension": ".py",
   "mimetype": "text/x-python",
   "name": "python",
   "nbconvert_exporter": "python",
   "pygments_lexer": "ipython3",
   "version": "3.7.9"
  },
  "toc": {
   "base_numbering": 1,
   "nav_menu": {},
   "number_sections": true,
   "sideBar": true,
   "skip_h1_title": false,
   "title_cell": "Table of Contents",
   "title_sidebar": "Contents",
   "toc_cell": false,
   "toc_position": {},
   "toc_section_display": true,
   "toc_window_display": false
  }
 },
 "nbformat": 4,
 "nbformat_minor": 5
}
